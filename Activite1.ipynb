{
 "cells": [
  {
   "cell_type": "markdown",
   "id": "d0aadbe0-b9df-46d2-b0dc-20b233243231",
   "metadata": {},
   "source": [
    "# Composition de l'univers, de la terre et des être vivants.\n",
    "\n",
    "Il existe une grande diversité d'éléments chimiques dans l'univers, sur terre et chez les êtres vivants. Leur abondance dépend des objets étudiés.\n",
    "\n",
    "[Lien vers l'activité](https://ipfs.io/ipfs/QmeBftLGHC7eTshUEh3t2uD23inQddnSjd8iNPpGZC6h5W)\n",
    "\n",
    "Comment se repartissent les différents éléments chimiques dans l'univers, sur terre et chez les êtres vivants ?"
   ]
  },
  {
   "cell_type": "markdown",
   "id": "75ef22d4-4ddf-47b4-9b5a-f1d0e5312c4b",
   "metadata": {
    "tags": []
   },
   "source": [
    "##### Représentez la diversité des éléments chimiques dans les différents objets étudiés de l'activité en faisant des diagrammes en camembert (pie chart), et en vous inspirant de l'exemple ci dessous."
   ]
  },
  {
   "cell_type": "markdown",
   "id": "bdb26c7e-192d-471b-b605-efde5654617a",
   "metadata": {},
   "source": [
    "La cellule ci dessous permet de configurer votre notebook et d'importer les modules nécessaires à la représentation graphique. Il est inutile de la reproduire pour chaque graphique."
   ]
  },
  {
   "cell_type": "code",
   "execution_count": 1,
   "id": "6429ee1b-424f-4b5c-a74e-82eb28a13676",
   "metadata": {},
   "outputs": [],
   "source": [
    "%config Completer.use_jedi = False # On active l'autocomplétion\n",
    "%matplotlib inline \n",
    "\n",
    "import matplotlib.pyplot as plt # matplotlib est un module python qui permet de faire des graphiques\n",
    "import pandas as pd # pandas est un module python qui permet de faire des matrices (tableaux 2 dimensions) appelées DataFrame et qui facilitent la réalisation des graphiques.\n",
    "\n",
    "plt.style.use(\"seaborn-white\") # pour avoir des graph sur fond blanc"
   ]
  },
  {
   "cell_type": "markdown",
   "id": "7a9290a9-a4aa-4e4b-9273-6c4110a8a9d0",
   "metadata": {},
   "source": [
    "Réalisation d'un DataFrame (tableau 2D) des proportions des éléments sur terre:"
   ]
  },
  {
   "cell_type": "code",
   "execution_count": 2,
   "id": "bebdce9a-d519-4b0c-9a85-5c3e8949223f",
   "metadata": {},
   "outputs": [
    {
     "data": {
      "text/html": [
       "<div>\n",
       "<style scoped>\n",
       "    .dataframe tbody tr th:only-of-type {\n",
       "        vertical-align: middle;\n",
       "    }\n",
       "\n",
       "    .dataframe tbody tr th {\n",
       "        vertical-align: top;\n",
       "    }\n",
       "\n",
       "    .dataframe thead th {\n",
       "        text-align: right;\n",
       "    }\n",
       "</style>\n",
       "<table border=\"1\" class=\"dataframe\">\n",
       "  <thead>\n",
       "    <tr style=\"text-align: right;\">\n",
       "      <th></th>\n",
       "      <th>Fe</th>\n",
       "      <th>O</th>\n",
       "      <th>Si</th>\n",
       "      <th>Mg</th>\n",
       "      <th>Ni</th>\n",
       "      <th>Autres</th>\n",
       "    </tr>\n",
       "  </thead>\n",
       "  <tbody>\n",
       "    <tr>\n",
       "      <th>0</th>\n",
       "      <td>35</td>\n",
       "      <td>30</td>\n",
       "      <td>15</td>\n",
       "      <td>13</td>\n",
       "      <td>2.4</td>\n",
       "      <td>4.6</td>\n",
       "    </tr>\n",
       "  </tbody>\n",
       "</table>\n",
       "</div>"
      ],
      "text/plain": [
       "   Fe   O  Si  Mg   Ni  Autres\n",
       "0  35  30  15  13  2.4     4.6"
      ]
     },
     "execution_count": 2,
     "metadata": {},
     "output_type": "execute_result"
    }
   ],
   "source": [
    "div_terre = pd.DataFrame([{\"Fe\":35,\"O\":30,\"Si\":15,\"Mg\":13,\"Ni\":2.4,\"Autres\":4.6}]) # creation du DataFrame\n",
    "\n",
    "div_terre # on affiche le DataFrame"
   ]
  },
  {
   "cell_type": "code",
   "execution_count": 3,
   "id": "21eb5884-cb78-4d5f-9ce4-444e50f0766f",
   "metadata": {},
   "outputs": [
    {
     "data": {
      "text/html": [
       "<div>\n",
       "<style scoped>\n",
       "    .dataframe tbody tr th:only-of-type {\n",
       "        vertical-align: middle;\n",
       "    }\n",
       "\n",
       "    .dataframe tbody tr th {\n",
       "        vertical-align: top;\n",
       "    }\n",
       "\n",
       "    .dataframe thead th {\n",
       "        text-align: right;\n",
       "    }\n",
       "</style>\n",
       "<table border=\"1\" class=\"dataframe\">\n",
       "  <thead>\n",
       "    <tr style=\"text-align: right;\">\n",
       "      <th></th>\n",
       "      <th>Proportions</th>\n",
       "    </tr>\n",
       "  </thead>\n",
       "  <tbody>\n",
       "    <tr>\n",
       "      <th>Fe</th>\n",
       "      <td>35.0</td>\n",
       "    </tr>\n",
       "    <tr>\n",
       "      <th>O</th>\n",
       "      <td>30.0</td>\n",
       "    </tr>\n",
       "    <tr>\n",
       "      <th>Si</th>\n",
       "      <td>15.0</td>\n",
       "    </tr>\n",
       "    <tr>\n",
       "      <th>Mg</th>\n",
       "      <td>13.0</td>\n",
       "    </tr>\n",
       "    <tr>\n",
       "      <th>Ni</th>\n",
       "      <td>2.4</td>\n",
       "    </tr>\n",
       "    <tr>\n",
       "      <th>Autres</th>\n",
       "      <td>4.6</td>\n",
       "    </tr>\n",
       "  </tbody>\n",
       "</table>\n",
       "</div>"
      ],
      "text/plain": [
       "        Proportions\n",
       "Fe             35.0\n",
       "O              30.0\n",
       "Si             15.0\n",
       "Mg             13.0\n",
       "Ni              2.4\n",
       "Autres          4.6"
      ]
     },
     "execution_count": 3,
     "metadata": {},
     "output_type": "execute_result"
    }
   ],
   "source": [
    "div_terre = div_terre.T # on transpose notre DataFrame pour le mettre dans le bon sens\n",
    "\n",
    "div_terre.columns = [\"Proportions\"] # on ajoute un titre à la colonne\n",
    "\n",
    "div_terre # on affiche le DataFrame"
   ]
  },
  {
   "cell_type": "markdown",
   "id": "9262dc88-68ea-47fe-a7a4-ad51c1af7e16",
   "metadata": {},
   "source": [
    "Réalisation du diagramme en camenbert des proportions des éléments sur terre:"
   ]
  },
  {
   "cell_type": "code",
   "execution_count": 4,
   "id": "e33e081d-83a5-49d1-98d7-b32ae82f9e3d",
   "metadata": {},
   "outputs": [
    {
     "data": {
      "text/plain": [
       "Text(0.5, 1.0, 'Terre')"
      ]
     },
     "execution_count": 4,
     "metadata": {},
     "output_type": "execute_result"
    },
    {
     "data": {
      "image/png": "[encoded data removed]",
      "text/plain": [
       "<Figure size 1080x576 with 1 Axes>"
      ]
     },
     "metadata": {},
     "output_type": "display_data"
    }
   ],
   "source": [
    "fig = plt.figure(1, figsize=(15, 8)) # on ajuste la taille du diagramme (facultatif)\n",
    "\n",
    "div_terre.Proportions.plot(kind=\"pie\", autopct='%1.1f%%') # création du diagramme en camembert des proportions\n",
    "\n",
    "plt.title(\"Terre\") # on ajoute un titre au diagramme"
   ]
  },
  {
   "cell_type": "markdown",
   "id": "b9d04dff-aed7-4c46-aad9-0d3ec4b90cdb",
   "metadata": {
    "tags": []
   },
   "source": [
    "Créez de nouvelles cellules pour réaliser les autres diagrammes. Pour ajouter des cellules cliquez sur + dans le menu ou sur echap puis b. \n",
    "\n",
    "##### Comparez ensuite la diversité et les proportions des éléments chimiques dans l'univers, sur terre, chez les différents êtres vivants et dans l'hème de l'hémglobine et dans une péridotite."
   ]
  },
  {
   "cell_type": "code",
   "execution_count": null,
   "id": "8c8d04cb-9bc8-4282-a084-9cd7496efce6",
   "metadata": {},
   "outputs": [],
   "source": []
  }
 ],
 "metadata": {
  "kernelspec": {
   "display_name": "Python 3 (ipykernel)",
   "language": "python",
   "name": "python3"
  },
  "language_info": {
   "codemirror_mode": {
    "name": "ipython",
    "version": 3
   },
   "file_extension": ".py",
   "mimetype": "text/x-python",
   "name": "python",
   "nbconvert_exporter": "python",
   "pygments_lexer": "ipython3",
   "version": "3.7.3"
  }
 },
 "nbformat": 4,
 "nbformat_minor": 5
}
